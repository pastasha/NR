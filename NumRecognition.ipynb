{
 "cells": [
  {
   "cell_type": "markdown",
   "metadata": {},
   "source": [
    "# <center>Распознавание чисел</center>"
   ]
  },
  {
   "cell_type": "markdown",
   "metadata": {},
   "source": [
    "Задание поделено на 4 логических части:\n",
    "<br>1.загрузка данных\n",
    "<br>2.Написание нейронной сети\n",
    "<br>3.Задание стуктуры нейнорой сети\n",
    "<br>4.Визуализация\n",
    "\n",
    "<br>Импорт библиотек для загрузки данных и написания нейронной сети: "
   ]
  },
  {
   "cell_type": "code",
   "execution_count": 34,
   "metadata": {},
   "outputs": [],
   "source": [
    "import pickle\n",
    "import numpy as np\n",
    "import random"
   ]
  },
  {
   "cell_type": "markdown",
   "metadata": {},
   "source": [
    "## Загрузка данных"
   ]
  },
  {
   "cell_type": "markdown",
   "metadata": {},
   "source": [
    "В данной части происходит загрузка и распределение данных из файла. В качестве данных используются образцы рукописного   написания цифр из базы данных MNIST."
   ]
  },
  {
   "cell_type": "code",
   "execution_count": 35,
   "metadata": {},
   "outputs": [],
   "source": [
    "def load_data():\n",
    "    with open('mnist.pkl', 'rb') as f:\n",
    "        u = pickle._Unpickler(f)\n",
    "        u.encoding = 'latin1'\n",
    "        training_data, validation_data, test_data = u.load()\n",
    "        return (training_data, validation_data, test_data)"
   ]
  },
  {
   "cell_type": "markdown",
   "metadata": {},
   "source": [
    "Следующим шагом приводим уже распределенные данные к матричному виду."
   ]
  },
  {
   "cell_type": "code",
   "execution_count": 36,
   "metadata": {},
   "outputs": [],
   "source": [
    "def load_data_wrapper():\n",
    "    tr_d, va_d, te_d = load_data()\n",
    "    training_inputs = [np.reshape(x, (784, 1)) for x in tr_d[0]]\n",
    "    training_results = [vectorized_result(y) for y in tr_d[1]]\n",
    "    training_data = zip(training_inputs, training_results)\n",
    "    validation_inputs = [np.reshape(x, (784, 1)) for x in va_d[0]]\n",
    "    validation_data = zip(validation_inputs, va_d[1])\n",
    "    test_inputs = [np.reshape(x, (784, 1)) for x in te_d[0]]\n",
    "    test_data = zip(test_inputs, te_d[1])\n",
    "    return (training_data, validation_data, test_data)\n",
    "\n",
    "#приведение результата к вектору\n",
    "def vectorized_result(j):\n",
    "    e = np.zeros((10, 1))\n",
    "    e[j] = 1.0\n",
    "    return e"
   ]
  },
  {
   "cell_type": "markdown",
   "metadata": {},
   "source": [
    "В конечном результате присваиваем результат выполнения вышеупомянутой функции следующим переменным.  "
   ]
  },
  {
   "cell_type": "code",
   "execution_count": 37,
   "metadata": {},
   "outputs": [],
   "source": [
    "training_data, validation_data, test_data = load_data_wrapper()"
   ]
  },
  {
   "cell_type": "markdown",
   "metadata": {},
   "source": [
    "## Написание нейронной сети"
   ]
  },
  {
   "cell_type": "markdown",
   "metadata": {},
   "source": [
    "В качестве нс представлен класс Netvork, при обращении в которм в дальнейшем можно задать структуру нс, а также настроить работу градиентного спуска. В составляющие класса входят только базовые, так как упор был на то, чтобы понять работу нейронных сетей на практике и написать работающий алгоритм."
   ]
  },
  {
   "cell_type": "code",
   "execution_count": 38,
   "metadata": {},
   "outputs": [],
   "source": [
    "class Network(object):\n",
    "\n",
    "    def __init__(self, sizes):\n",
    "        self.num_layers = len(sizes)\n",
    "        self.sizes = sizes\n",
    "        self.biases = [np.random.randn(y, 1) for y in sizes[1:]]\n",
    "        self.weights = [np.random.randn(y, x)\n",
    "                        for x, y in zip(sizes[:-1], sizes[1:])]\n",
    "    \n",
    "    def feedforward(self, a):\n",
    "        for b, w in zip(self.biases, self.weights):\n",
    "            a = sigmoid(np.dot(w, a) + b)\n",
    "        return a\n",
    "\n",
    "    # градиентный спуск\n",
    "    def SGD(self, training_data, epochs, mini_batch_size, eta, test_data):\n",
    "        \n",
    "        #для визуализации\n",
    "        self.AccList = []   #список изменения точности на протяжении всех эпох\n",
    "        self.LossList = []  #список изменения ошибки на протяжении всех эпох\n",
    "        self.EpochsList = []\n",
    "        \n",
    "        n_test = None\n",
    "        if test_data:\n",
    "            test_data = list(test_data)\n",
    "            n_test = len(test_data)\n",
    "        training_data = list(training_data)\n",
    "        n = len(training_data)\n",
    "        for j in range(epochs):\n",
    "            random.shuffle(training_data)\n",
    "            mini_batches = [\n",
    "                training_data[k:k + mini_batch_size]\n",
    "                for k in range(0, n, mini_batch_size)]\n",
    "            for mini_batch in mini_batches:\n",
    "                self.update_mini_batch(mini_batch, eta)\n",
    "            if test_data:\n",
    "                print(\n",
    "                    \"Epoch {0}:\\n Accuracy:{1} Loss:{2}\".format(\n",
    "                        j,\n",
    "                        self.evaluate(test_data),\n",
    "                        n_test - self.evaluate(test_data)))\n",
    "                self.AccList.append(self.evaluate(test_data))\n",
    "                self.LossList.append(n_test - self.evaluate(test_data))\n",
    "                self.EpochsList.append(j + 1)\n",
    "            else:\n",
    "                print(\n",
    "                    \"Epoch {0} complete\".format(j))\n",
    "\n",
    "        self.AccTrain = self.evaluate(test_data) / 100 % 100               #конечный результат точности\n",
    "        self.LossTrain = (n_test - self.evaluate(test_data)) / 100 % 100   #конечный результат ошибка\n",
    "\n",
    "        print(\"Fin:\\n Accuracy:{0}% Loss: {1}%\".format(\n",
    "            self.AccTrain,\n",
    "            self.LossTrain))\n",
    "\n",
    "    #размеры пакетов\n",
    "    def update_mini_batch(self, mini_batch, eta):\n",
    "        nabla_b = [np.zeros(b.shape) for b in self.biases]\n",
    "        nabla_w = [np.zeros(w.shape) for w in self.weights]\n",
    "        for x, y in mini_batch:\n",
    "            delta_nabla_b, delta_nabla_w = self.backprop(x, y)\n",
    "            nabla_b = [nb + dnb for nb, dnb in zip(nabla_b, delta_nabla_b)]\n",
    "            nabla_w = [nw + dnw for nw, dnw in zip(nabla_w, delta_nabla_w)]\n",
    "        self.weights = [w - (eta / len(mini_batch)) * nw\n",
    "                        for w, nw in zip(self.weights, nabla_w)]\n",
    "        self.biases = [b - (eta / len(mini_batch)) * nb\n",
    "                       for b, nb in zip(self.biases, nabla_b)]\n",
    "\n",
    "    \n",
    "    # обратное распространение ошибки\n",
    "    def backprop(self, x, y):\n",
    "        nabla_b = [np.zeros(b.shape) for b in self.biases]\n",
    "        nabla_w = [np.zeros(w.shape) for w in self.weights]\n",
    "\n",
    "        activation = x\n",
    "        activations = [x]\n",
    "        zs = []\n",
    "        for b, w in zip(self.biases, self.weights):\n",
    "            z = np.dot(w, activation) + b\n",
    "            zs.append(z)\n",
    "            activation = sigmoid(z)\n",
    "            activations.append(activation)\n",
    "\n",
    "        delta = self.cost_derivative(activations[-1], y) * \\\n",
    "                sigmoid_prime(zs[-1])\n",
    "        nabla_b[-1] = delta\n",
    "        nabla_w[-1] = np.dot(delta, activations[-2].transpose())\n",
    "        for l in range(2, self.num_layers):\n",
    "            z = zs[-l]\n",
    "            sp = sigmoid_prime(z)\n",
    "            delta = np.dot(self.weights[-l + 1].transpose(), delta) * sp\n",
    "            nabla_b[-l] = delta\n",
    "            nabla_w[-l] = np.dot(delta, activations[-l - 1].transpose())\n",
    "        return (nabla_b, nabla_w)\n",
    "\n",
    "    def evaluate(self, test_data):\n",
    "        test_results = [(np.argmax(self.feedforward(x)), y)\n",
    "                        for (x, y) in test_data]\n",
    "        return sum(int(x == y) for (x, y) in test_results)\n",
    "    \n",
    "    def cost_derivative(self, output_activations, y):\n",
    "        return (output_activations - y)\n",
    "\n",
    "def sigmoid(z):\n",
    "    return 1.0 / (1.0 + np.exp(-z))\n",
    "\n",
    "def sigmoid_prime(z):\n",
    "    return sigmoid(z) * (1 - sigmoid(z))"
   ]
  },
  {
   "cell_type": "markdown",
   "metadata": {},
   "source": [
    "## Задание стуктуры нейнорой сети"
   ]
  },
  {
   "cell_type": "markdown",
   "metadata": {},
   "source": [
    "Структура данной нейронной сети состоит из 3 слоев:\n",
    "    <br>    1.первый слой - входной: 784 входа\n",
    "    <br>    2.второй слой - скрытый: 30 входов\n",
    "    <br>    3.третий слой - выходной: 10 входов\n",
    "\n",
    "В следующей строке можно настроисть работу градиентного спуска посредством измененения таких параметров:\n",
    "    <br>    1.количества эпох\n",
    "    <br>    2.размера пакетов\n",
    "    <br>    3.скороти\n",
    "\n",
    "Кроме этого в качестве аргументов данная функция так же принимате данные для тренировочной и тестовой выборки."
   ]
  },
  {
   "cell_type": "code",
   "execution_count": 39,
   "metadata": {},
   "outputs": [
    {
     "name": "stdout",
     "output_type": "stream",
     "text": [
      "Epoch 0:\n",
      " Accuracy:8281 Loss:1719\n",
      "Epoch 1:\n",
      " Accuracy:9252 Loss:748\n",
      "Epoch 2:\n",
      " Accuracy:9304 Loss:696\n",
      "Epoch 3:\n",
      " Accuracy:9332 Loss:668\n",
      "Epoch 4:\n",
      " Accuracy:9390 Loss:610\n",
      "Epoch 5:\n",
      " Accuracy:9371 Loss:629\n",
      "Epoch 6:\n",
      " Accuracy:9422 Loss:578\n",
      "Epoch 7:\n",
      " Accuracy:9391 Loss:609\n",
      "Epoch 8:\n",
      " Accuracy:9427 Loss:573\n",
      "Epoch 9:\n",
      " Accuracy:9423 Loss:577\n",
      "Epoch 10:\n",
      " Accuracy:9452 Loss:548\n",
      "Epoch 11:\n",
      " Accuracy:9475 Loss:525\n",
      "Epoch 12:\n",
      " Accuracy:9449 Loss:551\n",
      "Epoch 13:\n",
      " Accuracy:9456 Loss:544\n",
      "Epoch 14:\n",
      " Accuracy:9487 Loss:513\n",
      "Epoch 15:\n",
      " Accuracy:9484 Loss:516\n",
      "Epoch 16:\n",
      " Accuracy:9504 Loss:496\n",
      "Epoch 17:\n",
      " Accuracy:9486 Loss:514\n",
      "Epoch 18:\n",
      " Accuracy:9471 Loss:529\n",
      "Epoch 19:\n",
      " Accuracy:9480 Loss:520\n",
      "Epoch 20:\n",
      " Accuracy:9492 Loss:508\n",
      "Epoch 21:\n",
      " Accuracy:9490 Loss:510\n",
      "Epoch 22:\n",
      " Accuracy:9469 Loss:531\n",
      "Epoch 23:\n",
      " Accuracy:9482 Loss:518\n",
      "Epoch 24:\n",
      " Accuracy:9485 Loss:515\n",
      "Epoch 25:\n",
      " Accuracy:9498 Loss:502\n",
      "Epoch 26:\n",
      " Accuracy:9507 Loss:493\n",
      "Epoch 27:\n",
      " Accuracy:9473 Loss:527\n",
      "Epoch 28:\n",
      " Accuracy:9471 Loss:529\n",
      "Epoch 29:\n",
      " Accuracy:9506 Loss:494\n",
      "Fin:\n",
      " Accuracy:95.06% Loss: 4.94%\n"
     ]
    }
   ],
   "source": [
    "net = Network([784,30,10])\n",
    "net.SGD(training_data, 30, 10, 4.0, test_data)\n",
    "AccList = net.AccList\n",
    "LossList = net.LossList\n",
    "epochs = net.EpochsList"
   ]
  },
  {
   "cell_type": "markdown",
   "metadata": {},
   "source": [
    "Результат: 95.06% точности и 4.94% ошибки"
   ]
  },
  {
   "cell_type": "markdown",
   "metadata": {},
   "source": [
    "## Визуализация\n",
    "\n",
    "Для визуализации была использованна графическая библиотека Plotly. "
   ]
  },
  {
   "cell_type": "code",
   "execution_count": 40,
   "metadata": {},
   "outputs": [
    {
     "data": {
      "text/html": [
       "        <script type=\"text/javascript\">\n",
       "        window.PlotlyConfig = {MathJaxConfig: 'local'};\n",
       "        if (window.MathJax) {MathJax.Hub.Config({SVG: {font: \"STIX-Web\"}});}\n",
       "        if (typeof require !== 'undefined') {\n",
       "        require.undef(\"plotly\");\n",
       "        requirejs.config({\n",
       "            paths: {\n",
       "                'plotly': ['https://cdn.plot.ly/plotly-latest.min']\n",
       "            }\n",
       "        });\n",
       "        require(['plotly'], function(Plotly) {\n",
       "            window._Plotly = Plotly;\n",
       "        });\n",
       "        }\n",
       "        </script>\n",
       "        "
      ]
     },
     "metadata": {},
     "output_type": "display_data"
    }
   ],
   "source": [
    "import plotly\n",
    "from plotly.offline import * \n",
    "import plotly.plotly as py\n",
    "import plotly.graph_objs as go\n",
    "import numpy as np\n",
    "import pandas as pd\n",
    "\n",
    "init_notebook_mode(connected = True)"
   ]
  },
  {
   "cell_type": "markdown",
   "metadata": {},
   "source": [
    "График роста точности: "
   ]
  },
  {
   "cell_type": "code",
   "execution_count": 41,
   "metadata": {},
   "outputs": [
    {
     "data": {
      "application/vnd.plotly.v1+json": {
       "config": {
        "linkText": "Export to plot.ly",
        "plotlyServerURL": "https://plot.ly",
        "responsive": true,
        "showLink": false
       },
       "data": [
        {
         "type": "scatter",
         "uid": "9923ebd3-01f1-4739-87df-890758ee00ad",
         "x": [
          1,
          2,
          3,
          4,
          5,
          6,
          7,
          8,
          9,
          10,
          11,
          12,
          13,
          14,
          15,
          16,
          17,
          18,
          19,
          20,
          21,
          22,
          23,
          24,
          25,
          26,
          27,
          28,
          29,
          30
         ],
         "y": [
          8281,
          9252,
          9304,
          9332,
          9390,
          9371,
          9422,
          9391,
          9427,
          9423,
          9452,
          9475,
          9449,
          9456,
          9487,
          9484,
          9504,
          9486,
          9471,
          9480,
          9492,
          9490,
          9469,
          9482,
          9485,
          9498,
          9507,
          9473,
          9471,
          9506
         ]
        }
       ],
       "layout": {}
      },
      "text/html": [
       "<div>\n",
       "        \n",
       "        \n",
       "            <div id=\"aa7e52c8-e281-49bd-af4e-9c4bc1cf96cc\" class=\"plotly-graph-div\" style=\"height:525px; width:100%;\"></div>\n",
       "            <script type=\"text/javascript\">\n",
       "                require([\"plotly\"], function(Plotly) {\n",
       "                    window.PLOTLYENV=window.PLOTLYENV || {};\n",
       "                    window.PLOTLYENV.BASE_URL='https://plot.ly';\n",
       "                    \n",
       "                if (document.getElementById(\"aa7e52c8-e281-49bd-af4e-9c4bc1cf96cc\")) {\n",
       "                    Plotly.newPlot(\n",
       "                        'aa7e52c8-e281-49bd-af4e-9c4bc1cf96cc',\n",
       "                        [{\"type\": \"scatter\", \"uid\": \"26956027-b3f9-4b29-9fd0-8872740ec746\", \"x\": [1, 2, 3, 4, 5, 6, 7, 8, 9, 10, 11, 12, 13, 14, 15, 16, 17, 18, 19, 20, 21, 22, 23, 24, 25, 26, 27, 28, 29, 30], \"y\": [8281, 9252, 9304, 9332, 9390, 9371, 9422, 9391, 9427, 9423, 9452, 9475, 9449, 9456, 9487, 9484, 9504, 9486, 9471, 9480, 9492, 9490, 9469, 9482, 9485, 9498, 9507, 9473, 9471, 9506]}],\n",
       "                        {},\n",
       "                        {\"showLink\": false, \"linkText\": \"Export to plot.ly\", \"plotlyServerURL\": \"https://plot.ly\", \"responsive\": true}\n",
       "                    ).then(function(){\n",
       "                            \n",
       "var gd = document.getElementById('aa7e52c8-e281-49bd-af4e-9c4bc1cf96cc');\n",
       "var x = new MutationObserver(function (mutations, observer) {{\n",
       "        var display = window.getComputedStyle(gd).display;\n",
       "        if (!display || display === 'none') {{\n",
       "            console.log([gd, 'removed!']);\n",
       "            Plotly.purge(gd);\n",
       "            observer.disconnect();\n",
       "        }}\n",
       "}});\n",
       "\n",
       "// Listen for the removal of the full notebook cells\n",
       "var notebookContainer = gd.closest('#notebook-container');\n",
       "if (notebookContainer) {{\n",
       "    x.observe(notebookContainer, {childList: true});\n",
       "}}\n",
       "\n",
       "// Listen for the clearing of the current output cell\n",
       "var outputEl = gd.closest('.output');\n",
       "if (outputEl) {{\n",
       "    x.observe(outputEl, {childList: true});\n",
       "}}\n",
       "\n",
       "                        })\n",
       "                };\n",
       "                });\n",
       "            </script>\n",
       "        </div>"
      ]
     },
     "metadata": {},
     "output_type": "display_data"
    }
   ],
   "source": [
    "iplot([{\"x\":epochs,\"y\":AccList}]) "
   ]
  },
  {
   "cell_type": "markdown",
   "metadata": {},
   "source": [
    "График снижения ошибки:"
   ]
  },
  {
   "cell_type": "code",
   "execution_count": 42,
   "metadata": {},
   "outputs": [
    {
     "data": {
      "application/vnd.plotly.v1+json": {
       "config": {
        "linkText": "Export to plot.ly",
        "plotlyServerURL": "https://plot.ly",
        "responsive": true,
        "showLink": false
       },
       "data": [
        {
         "type": "scatter",
         "uid": "fc7f2127-5cf5-4686-95fa-ea56ed89bbbe",
         "x": [
          1,
          2,
          3,
          4,
          5,
          6,
          7,
          8,
          9,
          10,
          11,
          12,
          13,
          14,
          15,
          16,
          17,
          18,
          19,
          20,
          21,
          22,
          23,
          24,
          25,
          26,
          27,
          28,
          29,
          30
         ],
         "y": [
          1719,
          748,
          696,
          668,
          610,
          629,
          578,
          609,
          573,
          577,
          548,
          525,
          551,
          544,
          513,
          516,
          496,
          514,
          529,
          520,
          508,
          510,
          531,
          518,
          515,
          502,
          493,
          527,
          529,
          494
         ]
        }
       ],
       "layout": {}
      },
      "text/html": [
       "<div>\n",
       "        \n",
       "        \n",
       "            <div id=\"feca004b-6320-441d-8cc8-b073a746e46d\" class=\"plotly-graph-div\" style=\"height:525px; width:100%;\"></div>\n",
       "            <script type=\"text/javascript\">\n",
       "                require([\"plotly\"], function(Plotly) {\n",
       "                    window.PLOTLYENV=window.PLOTLYENV || {};\n",
       "                    window.PLOTLYENV.BASE_URL='https://plot.ly';\n",
       "                    \n",
       "                if (document.getElementById(\"feca004b-6320-441d-8cc8-b073a746e46d\")) {\n",
       "                    Plotly.newPlot(\n",
       "                        'feca004b-6320-441d-8cc8-b073a746e46d',\n",
       "                        [{\"type\": \"scatter\", \"uid\": \"9f5bb2cc-f94a-429d-bf83-13f830fb76a5\", \"x\": [1, 2, 3, 4, 5, 6, 7, 8, 9, 10, 11, 12, 13, 14, 15, 16, 17, 18, 19, 20, 21, 22, 23, 24, 25, 26, 27, 28, 29, 30], \"y\": [1719, 748, 696, 668, 610, 629, 578, 609, 573, 577, 548, 525, 551, 544, 513, 516, 496, 514, 529, 520, 508, 510, 531, 518, 515, 502, 493, 527, 529, 494]}],\n",
       "                        {},\n",
       "                        {\"showLink\": false, \"linkText\": \"Export to plot.ly\", \"plotlyServerURL\": \"https://plot.ly\", \"responsive\": true}\n",
       "                    ).then(function(){\n",
       "                            \n",
       "var gd = document.getElementById('feca004b-6320-441d-8cc8-b073a746e46d');\n",
       "var x = new MutationObserver(function (mutations, observer) {{\n",
       "        var display = window.getComputedStyle(gd).display;\n",
       "        if (!display || display === 'none') {{\n",
       "            console.log([gd, 'removed!']);\n",
       "            Plotly.purge(gd);\n",
       "            observer.disconnect();\n",
       "        }}\n",
       "}});\n",
       "\n",
       "// Listen for the removal of the full notebook cells\n",
       "var notebookContainer = gd.closest('#notebook-container');\n",
       "if (notebookContainer) {{\n",
       "    x.observe(notebookContainer, {childList: true});\n",
       "}}\n",
       "\n",
       "// Listen for the clearing of the current output cell\n",
       "var outputEl = gd.closest('.output');\n",
       "if (outputEl) {{\n",
       "    x.observe(outputEl, {childList: true});\n",
       "}}\n",
       "\n",
       "                        })\n",
       "                };\n",
       "                });\n",
       "            </script>\n",
       "        </div>"
      ]
     },
     "metadata": {},
     "output_type": "display_data"
    }
   ],
   "source": [
    "iplot([{\"x\":epochs,\"y\":LossList}])"
   ]
  },
  {
   "cell_type": "markdown",
   "metadata": {},
   "source": [
    "График относительно роста точности и снижения ошибки:"
   ]
  },
  {
   "cell_type": "code",
   "execution_count": 43,
   "metadata": {},
   "outputs": [
    {
     "data": {
      "application/vnd.plotly.v1+json": {
       "config": {
        "linkText": "Export to plot.ly",
        "plotlyServerURL": "https://plot.ly",
        "responsive": true,
        "showLink": false
       },
       "data": [
        {
         "marker": {
          "color": [
           0,
           1,
           2,
           3,
           4,
           5,
           6,
           7,
           8,
           9,
           10,
           11,
           12,
           13,
           14,
           15,
           16,
           17,
           18,
           19,
           20,
           21,
           22,
           23,
           24,
           25,
           26,
           27,
           28,
           29
          ],
          "colorscale": "Viridis",
          "opacity": 0,
          "size": 7
         },
         "mode": "markers",
         "type": "scatter3d",
         "uid": "e69b22fc-391f-4c94-a7a9-c753c2cf386f",
         "x": [
          1,
          2,
          3,
          4,
          5,
          6,
          7,
          8,
          9,
          10,
          11,
          12,
          13,
          14,
          15,
          16,
          17,
          18,
          19,
          20,
          21,
          22,
          23,
          24,
          25,
          26,
          27,
          28,
          29,
          30
         ],
         "y": [
          8281,
          9252,
          9304,
          9332,
          9390,
          9371,
          9422,
          9391,
          9427,
          9423,
          9452,
          9475,
          9449,
          9456,
          9487,
          9484,
          9504,
          9486,
          9471,
          9480,
          9492,
          9490,
          9469,
          9482,
          9485,
          9498,
          9507,
          9473,
          9471,
          9506
         ],
         "z": [
          1719,
          748,
          696,
          668,
          610,
          629,
          578,
          609,
          573,
          577,
          548,
          525,
          551,
          544,
          513,
          516,
          496,
          514,
          529,
          520,
          508,
          510,
          531,
          518,
          515,
          502,
          493,
          527,
          529,
          494
         ]
        }
       ],
       "layout": {
        "margin": {
         "b": 0,
         "l": 0,
         "r": 0,
         "t": 0
        }
       }
      },
      "text/html": [
       "<div>\n",
       "        \n",
       "        \n",
       "            <div id=\"5ae5bdb2-fe39-45d0-b510-8d33af71802c\" class=\"plotly-graph-div\" style=\"height:525px; width:100%;\"></div>\n",
       "            <script type=\"text/javascript\">\n",
       "                require([\"plotly\"], function(Plotly) {\n",
       "                    window.PLOTLYENV=window.PLOTLYENV || {};\n",
       "                    window.PLOTLYENV.BASE_URL='https://plot.ly';\n",
       "                    \n",
       "                if (document.getElementById(\"5ae5bdb2-fe39-45d0-b510-8d33af71802c\")) {\n",
       "                    Plotly.newPlot(\n",
       "                        '5ae5bdb2-fe39-45d0-b510-8d33af71802c',\n",
       "                        [{\"marker\": {\"color\": [0, 1, 2, 3, 4, 5, 6, 7, 8, 9, 10, 11, 12, 13, 14, 15, 16, 17, 18, 19, 20, 21, 22, 23, 24, 25, 26, 27, 28, 29], \"colorscale\": \"Viridis\", \"opacity\": 0, \"size\": 7}, \"mode\": \"markers\", \"type\": \"scatter3d\", \"uid\": \"bad25f20-65dc-4ddb-9961-d76ca4f11b8a\", \"x\": [1, 2, 3, 4, 5, 6, 7, 8, 9, 10, 11, 12, 13, 14, 15, 16, 17, 18, 19, 20, 21, 22, 23, 24, 25, 26, 27, 28, 29, 30], \"y\": [8281, 9252, 9304, 9332, 9390, 9371, 9422, 9391, 9427, 9423, 9452, 9475, 9449, 9456, 9487, 9484, 9504, 9486, 9471, 9480, 9492, 9490, 9469, 9482, 9485, 9498, 9507, 9473, 9471, 9506], \"z\": [1719, 748, 696, 668, 610, 629, 578, 609, 573, 577, 548, 525, 551, 544, 513, 516, 496, 514, 529, 520, 508, 510, 531, 518, 515, 502, 493, 527, 529, 494]}],\n",
       "                        {\"margin\": {\"b\": 0, \"l\": 0, \"r\": 0, \"t\": 0}},\n",
       "                        {\"showLink\": false, \"linkText\": \"Export to plot.ly\", \"plotlyServerURL\": \"https://plot.ly\", \"responsive\": true}\n",
       "                    ).then(function(){\n",
       "                            \n",
       "var gd = document.getElementById('5ae5bdb2-fe39-45d0-b510-8d33af71802c');\n",
       "var x = new MutationObserver(function (mutations, observer) {{\n",
       "        var display = window.getComputedStyle(gd).display;\n",
       "        if (!display || display === 'none') {{\n",
       "            console.log([gd, 'removed!']);\n",
       "            Plotly.purge(gd);\n",
       "            observer.disconnect();\n",
       "        }}\n",
       "}});\n",
       "\n",
       "// Listen for the removal of the full notebook cells\n",
       "var notebookContainer = gd.closest('#notebook-container');\n",
       "if (notebookContainer) {{\n",
       "    x.observe(notebookContainer, {childList: true});\n",
       "}}\n",
       "\n",
       "// Listen for the clearing of the current output cell\n",
       "var outputEl = gd.closest('.output');\n",
       "if (outputEl) {{\n",
       "    x.observe(outputEl, {childList: true});\n",
       "}}\n",
       "\n",
       "                        })\n",
       "                };\n",
       "                });\n",
       "            </script>\n",
       "        </div>"
      ]
     },
     "metadata": {},
     "output_type": "display_data"
    }
   ],
   "source": [
    "trace = go.Scatter3d(\n",
    "            x = epochs,\n",
    "            y = AccList,\n",
    "            z = LossList,\n",
    "            mode = 'markers',\n",
    "            marker = dict(\n",
    "                size = 7,\n",
    "                color=[0, 1, 2, 3, 4, 5, 6, 7, 8, 9, 10, 11, 12, 13, 14, 15, 16, 17, 18, 19, 20, 21, 22, 23, 24, 25, 26, 27, 28, 29],\n",
    "                colorscale = 'Viridis',\n",
    "                opacity = 0))\n",
    "layout = go.Layout(\n",
    "            margin = dict(\n",
    "                l = 0,\n",
    "                r = 0,\n",
    "                b = 0,\n",
    "                t = 0))\n",
    "fig = go.Figure(data = [trace], layout = layout)\n",
    "iplot(fig,filename = '3d-visualisation')"
   ]
  },
  {
   "cell_type": "markdown",
   "metadata": {},
   "source": [
    "### <center>Спасибо за внимание!</center> "
   ]
  }
 ],
 "metadata": {
  "kernelspec": {
   "display_name": "Python 3",
   "language": "python",
   "name": "python3"
  },
  "language_info": {
   "codemirror_mode": {
    "name": "ipython",
    "version": 3
   },
   "file_extension": ".py",
   "mimetype": "text/x-python",
   "name": "python",
   "nbconvert_exporter": "python",
   "pygments_lexer": "ipython3",
   "version": "3.6.8"
  }
 },
 "nbformat": 4,
 "nbformat_minor": 2
}
